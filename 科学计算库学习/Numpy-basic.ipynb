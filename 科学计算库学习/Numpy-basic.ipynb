{
 "cells": [
  {
   "cell_type": "markdown",
   "id": "ac56b875",
   "metadata": {},
   "source": [
    "\n",
    "## 1 NumPy概述\n",
    "### 1.1 概念\n",
    "科学计算库，用于快速处理任意维度的数组。Numpy（numerical python）\n",
    "NumPy使用ndarray对象来处理多维数组。"
   ]
  },
  {
   "cell_type": "markdown",
   "id": "f9679646",
   "metadata": {},
   "source": [
    "存储学生成绩数据，列分别为语文、数学、英语、政治、体育"
   ]
  },
  {
   "cell_type": "code",
   "execution_count": 4,
   "id": "6475a440",
   "metadata": {},
   "outputs": [
    {
     "data": {
      "text/plain": [
       "array([[80, 89, 86, 67, 79],\n",
       "       [78, 97, 89, 67, 81],\n",
       "       [90, 94, 78, 67, 74],\n",
       "       [91, 91, 90, 67, 69],\n",
       "       [76, 87, 75, 67, 86],\n",
       "       [70, 79, 84, 67, 84],\n",
       "       [94, 92, 93, 67, 64],\n",
       "       [86, 85, 83, 67, 80]])"
      ]
     },
     "execution_count": 4,
     "metadata": {},
     "output_type": "execute_result"
    }
   ],
   "source": [
    "import numpy as np\n",
    "\n",
    "# 创建ndarray数组\n",
    "score = np.array([[80,89,86,67,79],\n",
    "                 [78,97,89,67,81],\n",
    "                 [90,94,78,67,74],\n",
    "                 [91,91,90,67,69],\n",
    "                 [76,87,75,67,86],\n",
    "                 [70,79,84,67,84],\n",
    "                 [94,92,93,67,64],\n",
    "                 [86,85,83,67,80]])\n",
    "score"
   ]
  },
  {
   "cell_type": "markdown",
   "id": "7aed73c7",
   "metadata": {},
   "source": [
    "### 1.2 ndarray的优势\n",
    "首先先对比ndarray和python原生list的运算效率,ndarray效率大于python原生。\n",
    "原因：\n",
    "    1、存储风格：ndarray存储相同类型，但通用性不强；python的原生list可以存储不同的风格，通用性很强；\n",
    "    2、ndarray支持并行化运算，向量化运算；\n",
    "    3、numpy底层使用c语言编写，内u解除了GIL（全局解释器锁），其对数组的操作速度不受python解释器的限制，效率远高于纯Python代码。"
   ]
  },
  {
   "cell_type": "code",
   "execution_count": 5,
   "id": "ce49f701",
   "metadata": {},
   "outputs": [],
   "source": [
    "import random\n",
    "import time\n",
    "\n",
    "# 生成一个随机的大数组\n",
    "python_list = []\n",
    "\n",
    "for i in range(100000000):\n",
    "    python_list.append(random.random())"
   ]
  },
  {
   "cell_type": "code",
   "execution_count": 6,
   "id": "04facbbd",
   "metadata": {},
   "outputs": [
    {
     "data": {
      "text/plain": [
       "100000000"
      ]
     },
     "execution_count": 6,
     "metadata": {},
     "output_type": "execute_result"
    }
   ],
   "source": [
    "ndarray_list = np.array(python_list)\n",
    "len(ndarray_list)"
   ]
  },
  {
   "cell_type": "code",
   "execution_count": 9,
   "id": "9134f340",
   "metadata": {},
   "outputs": [
    {
     "data": {
      "text/plain": [
       "0.32819128036499023"
      ]
     },
     "execution_count": 9,
     "metadata": {},
     "output_type": "execute_result"
    }
   ],
   "source": [
    "# 利用原生方式对数组求和\n",
    "t1 = time.time()\n",
    "a = sum(python_list)\n",
    "t2 = time.time()\n",
    "t2-t1"
   ]
  },
  {
   "cell_type": "code",
   "execution_count": 10,
   "id": "21fdf361",
   "metadata": {},
   "outputs": [
    {
     "data": {
      "text/plain": [
       "0.10032391548156738"
      ]
     },
     "execution_count": 10,
     "metadata": {},
     "output_type": "execute_result"
    }
   ],
   "source": [
    "# 利用adarray求和\n",
    "t3 = time.time()\n",
    "b = np.sum(ndarray_list)\n",
    "t4 = time.time()\n",
    "t4-t3"
   ]
  },
  {
   "cell_type": "markdown",
   "id": "6339b3b3",
   "metadata": {},
   "source": [
    "### 1.3 ndarray属性\n",
    "数组属性反映了数组本身固有的信息\n",
    "| 属性名字         | 属性解释                   |\n",
    "| ---------------- | -------------------------- |\n",
    "| ndarray.shape    | 数组维度的元组             |\n",
    "| ndarray.ndim     | 数组维数                   |\n",
    "| ndarray.size     | 数组中的元素数量           |\n",
    "| ndarray.itemsize | 一个数组元素的长度（字节） |\n",
    "| ndarray.dtype    | 数组元素的类型             |\n"
   ]
  },
  {
   "cell_type": "code",
   "execution_count": 11,
   "id": "0beb26f8",
   "metadata": {},
   "outputs": [
    {
     "data": {
      "text/plain": [
       "(8, 5)"
      ]
     },
     "execution_count": 11,
     "metadata": {},
     "output_type": "execute_result"
    }
   ],
   "source": [
    "# 查看数组形状\n",
    "score.shape"
   ]
  },
  {
   "cell_type": "code",
   "execution_count": 12,
   "id": "de6b9e5d",
   "metadata": {},
   "outputs": [
    {
     "data": {
      "text/plain": [
       "2"
      ]
     },
     "execution_count": 12,
     "metadata": {},
     "output_type": "execute_result"
    }
   ],
   "source": [
    "# 查看数组维度\n",
    "score.ndim"
   ]
  },
  {
   "cell_type": "code",
   "execution_count": 13,
   "id": "713fdcfa",
   "metadata": {},
   "outputs": [
    {
     "data": {
      "text/plain": [
       "40"
      ]
     },
     "execution_count": 13,
     "metadata": {},
     "output_type": "execute_result"
    }
   ],
   "source": [
    "# 查看数组元素的多少\n",
    "score.size"
   ]
  },
  {
   "cell_type": "code",
   "execution_count": 14,
   "id": "75c0a926",
   "metadata": {},
   "outputs": [
    {
     "data": {
      "text/plain": [
       "dtype('int32')"
      ]
     },
     "execution_count": 14,
     "metadata": {},
     "output_type": "execute_result"
    }
   ],
   "source": [
    "# 查看数组类型\n",
    "# 在创建数组时，若没有指定数据类型，则默认整数的数据类型为int32\n",
    "score.dtype"
   ]
  },
  {
   "cell_type": "code",
   "execution_count": 15,
   "id": "9854453f",
   "metadata": {},
   "outputs": [
    {
     "data": {
      "text/plain": [
       "4"
      ]
     },
     "execution_count": 15,
     "metadata": {},
     "output_type": "execute_result"
    }
   ],
   "source": [
    "# 查看一个数组元素的长度（占多少字节）\n",
    "score.itemsize"
   ]
  },
  {
   "cell_type": "markdown",
   "id": "7989935d",
   "metadata": {},
   "source": [
    "#### 1.3.1 ndarray的形状详解\n",
    "ndarray.shape()"
   ]
  },
  {
   "cell_type": "code",
   "execution_count": 19,
   "id": "8b1c4cd0",
   "metadata": {},
   "outputs": [],
   "source": [
    "a = np.array([[1,2,3],[4,5,6]])\n",
    "b = np.array([1,2,3,4])\n",
    "c = np.array([[[1,2,3],[4,5,6]],[[1,2,3],[4,5,6]]])"
   ]
  },
  {
   "cell_type": "code",
   "execution_count": 20,
   "id": "0ce8f915",
   "metadata": {},
   "outputs": [
    {
     "data": {
      "text/plain": [
       "array([[1, 2, 3],\n",
       "       [4, 5, 6]])"
      ]
     },
     "execution_count": 20,
     "metadata": {},
     "output_type": "execute_result"
    }
   ],
   "source": [
    "a"
   ]
  },
  {
   "cell_type": "code",
   "execution_count": 21,
   "id": "380cc9ef",
   "metadata": {},
   "outputs": [
    {
     "data": {
      "text/plain": [
       "array([1, 2, 3, 4])"
      ]
     },
     "execution_count": 21,
     "metadata": {},
     "output_type": "execute_result"
    }
   ],
   "source": [
    "b"
   ]
  },
  {
   "cell_type": "code",
   "execution_count": 22,
   "id": "e26ea902",
   "metadata": {},
   "outputs": [
    {
     "data": {
      "text/plain": [
       "array([[[1, 2, 3],\n",
       "        [4, 5, 6]],\n",
       "\n",
       "       [[1, 2, 3],\n",
       "        [4, 5, 6]]])"
      ]
     },
     "execution_count": 22,
     "metadata": {},
     "output_type": "execute_result"
    }
   ],
   "source": [
    "c"
   ]
  },
  {
   "cell_type": "code",
   "execution_count": 24,
   "id": "79726c19",
   "metadata": {},
   "outputs": [
    {
     "data": {
      "text/plain": [
       "(2, 3)"
      ]
     },
     "execution_count": 24,
     "metadata": {},
     "output_type": "execute_result"
    }
   ],
   "source": [
    "a.shape"
   ]
  },
  {
   "cell_type": "code",
   "execution_count": 25,
   "id": "feddd387",
   "metadata": {},
   "outputs": [
    {
     "data": {
      "text/plain": [
       "(4,)"
      ]
     },
     "execution_count": 25,
     "metadata": {},
     "output_type": "execute_result"
    }
   ],
   "source": [
    "b.shape"
   ]
  },
  {
   "cell_type": "code",
   "execution_count": 26,
   "id": "1efd00ea",
   "metadata": {},
   "outputs": [
    {
     "data": {
      "text/plain": [
       "(2, 2, 3)"
      ]
     },
     "execution_count": 26,
     "metadata": {},
     "output_type": "execute_result"
    }
   ],
   "source": [
    "c.shape"
   ]
  },
  {
   "cell_type": "markdown",
   "id": "33dbd45d",
   "metadata": {},
   "source": [
    "#### 1.3.2 ndarray的常用类型详解\n",
    "详情数据类型见菜鸟教程：https://www.runoob.com/numpy/numpy-dtype.html"
   ]
  },
  {
   "cell_type": "code",
   "execution_count": 27,
   "id": "2c2a58d8",
   "metadata": {},
   "outputs": [
    {
     "data": {
      "text/plain": [
       "array([1.1, 2.2, 3.3])"
      ]
     },
     "execution_count": 27,
     "metadata": {},
     "output_type": "execute_result"
    }
   ],
   "source": [
    "# 指定数据类型,若未指定数据类型，浮点数的数据类型为float64\n",
    "data = np.array([1.1,2.2,3.3])\n",
    "data"
   ]
  },
  {
   "cell_type": "code",
   "execution_count": 28,
   "id": "d7f4e978",
   "metadata": {},
   "outputs": [
    {
     "data": {
      "text/plain": [
       "dtype('float64')"
      ]
     },
     "execution_count": 28,
     "metadata": {},
     "output_type": "execute_result"
    }
   ],
   "source": [
    "data.dtype"
   ]
  },
  {
   "cell_type": "code",
   "execution_count": 40,
   "id": "07fcd249",
   "metadata": {},
   "outputs": [],
   "source": [
    "# 以下是指定数据类型\n",
    "data1 = np.array([1,2,3])\n",
    "data2 = np.array([1,2,3],dtype=np.float64)"
   ]
  },
  {
   "cell_type": "code",
   "execution_count": 41,
   "id": "81a1ec50",
   "metadata": {},
   "outputs": [
    {
     "data": {
      "text/plain": [
       "dtype('int32')"
      ]
     },
     "execution_count": 41,
     "metadata": {},
     "output_type": "execute_result"
    }
   ],
   "source": [
    "data1.dtype"
   ]
  },
  {
   "cell_type": "code",
   "execution_count": 42,
   "id": "fb42aebf",
   "metadata": {},
   "outputs": [
    {
     "data": {
      "text/plain": [
       "dtype('float64')"
      ]
     },
     "execution_count": 42,
     "metadata": {},
     "output_type": "execute_result"
    }
   ],
   "source": [
    "data2.dtype"
   ]
  },
  {
   "cell_type": "markdown",
   "id": "2aa3c680",
   "metadata": {},
   "source": [
    "## 2 numpy基本使用\n",
    "两种操作方式：ndarray.方法()          np.函数()"
   ]
  },
  {
   "cell_type": "markdown",
   "id": "f4af2e18",
   "metadata": {},
   "source": [
    "### 2.1 生成数组的方法"
   ]
  },
  {
   "cell_type": "markdown",
   "id": "ef6ebab1",
   "metadata": {},
   "source": [
    "#### 生成0的数组"
   ]
  },
  {
   "cell_type": "code",
   "execution_count": 44,
   "id": "bcf809a3",
   "metadata": {},
   "outputs": [
    {
     "data": {
      "text/plain": [
       "array([[0., 0., 0., 0.],\n",
       "       [0., 0., 0., 0.],\n",
       "       [0., 0., 0., 0.]])"
      ]
     },
     "execution_count": 44,
     "metadata": {},
     "output_type": "execute_result"
    }
   ],
   "source": [
    "# 生成0的数组\n",
    "np.zeros([3,4])"
   ]
  },
  {
   "cell_type": "code",
   "execution_count": 49,
   "id": "df3d7f64",
   "metadata": {},
   "outputs": [
    {
     "data": {
      "text/plain": [
       "array([[1., 1., 1., 1., 1.],\n",
       "       [1., 1., 1., 1., 1.]], dtype=float32)"
      ]
     },
     "execution_count": 49,
     "metadata": {},
     "output_type": "execute_result"
    }
   ],
   "source": [
    "# 生成1的数组\n",
    "np.ones(shape=(2,5),dtype=\"float32\")"
   ]
  },
  {
   "cell_type": "code",
   "execution_count": 51,
   "id": "ef9ac133",
   "metadata": {},
   "outputs": [
    {
     "data": {
      "text/plain": [
       "array([[1, 1, 1, 1, 1],\n",
       "       [1, 1, 1, 1, 1]])"
      ]
     },
     "execution_count": 51,
     "metadata": {},
     "output_type": "execute_result"
    }
   ],
   "source": [
    "np.ones(shape=[2,5],dtype=np.int32)"
   ]
  },
  {
   "cell_type": "markdown",
   "id": "0f00bd8e",
   "metadata": {},
   "source": [
    "#### 从现有数组中生成"
   ]
  },
  {
   "cell_type": "code",
   "execution_count": 52,
   "id": "77e9b81d",
   "metadata": {},
   "outputs": [
    {
     "data": {
      "text/plain": [
       "array([[80, 89, 86, 67, 79],\n",
       "       [78, 97, 89, 67, 81],\n",
       "       [90, 94, 78, 67, 74],\n",
       "       [91, 91, 90, 67, 69],\n",
       "       [76, 87, 75, 67, 86],\n",
       "       [70, 79, 84, 67, 84],\n",
       "       [94, 92, 93, 67, 64],\n",
       "       [86, 85, 83, 67, 80]])"
      ]
     },
     "execution_count": 52,
     "metadata": {},
     "output_type": "execute_result"
    }
   ],
   "source": [
    "# 从现有数组中生成\n",
    "score"
   ]
  },
  {
   "cell_type": "code",
   "execution_count": 55,
   "id": "2074393e",
   "metadata": {},
   "outputs": [
    {
     "data": {
      "text/plain": [
       "array([[80, 89, 86, 67, 79],\n",
       "       [78, 97, 89, 67, 81],\n",
       "       [90, 94, 78, 67, 74],\n",
       "       [91, 91, 90, 67, 69],\n",
       "       [76, 87, 75, 67, 86],\n",
       "       [70, 79, 84, 67, 84],\n",
       "       [94, 92, 93, 67, 64],\n",
       "       [86, 85, 83, 67, 80]])"
      ]
     },
     "execution_count": 55,
     "metadata": {},
     "output_type": "execute_result"
    }
   ],
   "source": [
    "# np.array\n",
    "test1 = np.array(score)\n",
    "test1"
   ]
  },
  {
   "cell_type": "code",
   "execution_count": 56,
   "id": "83f92319",
   "metadata": {},
   "outputs": [
    {
     "data": {
      "text/plain": [
       "array([[80, 89, 86, 67, 79],\n",
       "       [78, 97, 89, 67, 81],\n",
       "       [90, 94, 78, 67, 74],\n",
       "       [91, 91, 90, 67, 69],\n",
       "       [76, 87, 75, 67, 86],\n",
       "       [70, 79, 84, 67, 84],\n",
       "       [94, 92, 93, 67, 64],\n",
       "       [86, 85, 83, 67, 80]])"
      ]
     },
     "execution_count": 56,
     "metadata": {},
     "output_type": "execute_result"
    }
   ],
   "source": [
    "# np.asarray\n",
    "test2 =np.asarray(score)\n",
    "test2"
   ]
  },
  {
   "cell_type": "code",
   "execution_count": 57,
   "id": "3cb85d72",
   "metadata": {},
   "outputs": [
    {
     "data": {
      "text/plain": [
       "array([[80, 89, 86, 67, 79],\n",
       "       [78, 97, 89, 67, 81],\n",
       "       [90, 94, 78, 67, 74],\n",
       "       [91, 91, 90, 67, 69],\n",
       "       [76, 87, 75, 67, 86],\n",
       "       [70, 79, 84, 67, 84],\n",
       "       [94, 92, 93, 67, 64],\n",
       "       [86, 85, 83, 67, 80]])"
      ]
     },
     "execution_count": 57,
     "metadata": {},
     "output_type": "execute_result"
    }
   ],
   "source": [
    "# np.copy\n",
    "test3 = np.copy(score)\n",
    "test3"
   ]
  },
  {
   "cell_type": "code",
   "execution_count": 58,
   "id": "8e8c5c47",
   "metadata": {},
   "outputs": [],
   "source": [
    "# 修改第四行第二列的数组值\n",
    "score[3,1] = 10000"
   ]
  },
  {
   "cell_type": "code",
   "execution_count": 59,
   "id": "4153c8b8",
   "metadata": {},
   "outputs": [
    {
     "data": {
      "text/plain": [
       "array([[80, 89, 86, 67, 79],\n",
       "       [78, 97, 89, 67, 81],\n",
       "       [90, 94, 78, 67, 74],\n",
       "       [91, 91, 90, 67, 69],\n",
       "       [76, 87, 75, 67, 86],\n",
       "       [70, 79, 84, 67, 84],\n",
       "       [94, 92, 93, 67, 64],\n",
       "       [86, 85, 83, 67, 80]])"
      ]
     },
     "execution_count": 59,
     "metadata": {},
     "output_type": "execute_result"
    }
   ],
   "source": [
    "test1"
   ]
  },
  {
   "cell_type": "code",
   "execution_count": 60,
   "id": "15ed3f38",
   "metadata": {},
   "outputs": [
    {
     "data": {
      "text/plain": [
       "array([[   80,    89,    86,    67,    79],\n",
       "       [   78,    97,    89,    67,    81],\n",
       "       [   90,    94,    78,    67,    74],\n",
       "       [   91, 10000,    90,    67,    69],\n",
       "       [   76,    87,    75,    67,    86],\n",
       "       [   70,    79,    84,    67,    84],\n",
       "       [   94,    92,    93,    67,    64],\n",
       "       [   86,    85,    83,    67,    80]])"
      ]
     },
     "execution_count": 60,
     "metadata": {},
     "output_type": "execute_result"
    }
   ],
   "source": [
    "test2"
   ]
  },
  {
   "cell_type": "code",
   "execution_count": 61,
   "id": "1f0676da",
   "metadata": {},
   "outputs": [
    {
     "data": {
      "text/plain": [
       "array([[80, 89, 86, 67, 79],\n",
       "       [78, 97, 89, 67, 81],\n",
       "       [90, 94, 78, 67, 74],\n",
       "       [91, 91, 90, 67, 69],\n",
       "       [76, 87, 75, 67, 86],\n",
       "       [70, 79, 84, 67, 84],\n",
       "       [94, 92, 93, 67, 64],\n",
       "       [86, 85, 83, 67, 80]])"
      ]
     },
     "execution_count": 61,
     "metadata": {},
     "output_type": "execute_result"
    }
   ],
   "source": [
    "test3"
   ]
  },
  {
   "cell_type": "markdown",
   "id": "07c8883b",
   "metadata": {},
   "source": [
    "从上述列子中可以发现，在更改数值之后，test1和test3的数值没有变化（深拷贝），而test2的数值发生了变化（浅拷贝）。最常用的是np.array"
   ]
  },
  {
   "cell_type": "markdown",
   "id": "ede838a9",
   "metadata": {},
   "source": [
    "#### 生成固定范围的数组\n",
    "np.arange(start,stop,step,dtype)\n",
    "start:起始值，默认为0。stop:终止值（不包含）。step:步长。stype:返回ndarray的数据类型，如果没有提供，则会使用输入数据的类型。\n",
    "\n",
    "np.linspace(start, stop, num=50, endpoint=True, retstep=False, dtype=None)\n",
    "start：序列的起始值。stop：序列的终止值，如果endpoint为true，该值包含于数列中。num：要生成的等步长的样本数量，默认为50。endpoint：该值为 true 时，数列中包含stop值，反之不包含，默认是True。retstep：如果为 True 时，生成的数组中会显示间距，反之不显示。dtype：ndarray 的数据类型"
   ]
  },
  {
   "cell_type": "code",
   "execution_count": 63,
   "id": "795581ec",
   "metadata": {},
   "outputs": [
    {
     "data": {
      "text/plain": [
       "array([ 0. ,  2.5,  5. ,  7.5, 10. ])"
      ]
     },
     "execution_count": 63,
     "metadata": {},
     "output_type": "execute_result"
    }
   ],
   "source": [
    "np.linspace(0,10,5)"
   ]
  },
  {
   "cell_type": "code",
   "execution_count": 64,
   "id": "5cb9c9cf",
   "metadata": {},
   "outputs": [
    {
     "data": {
      "text/plain": [
       "array([0, 2, 4, 6, 8])"
      ]
     },
     "execution_count": 64,
     "metadata": {},
     "output_type": "execute_result"
    }
   ],
   "source": [
    "np.arange(0,10,2)"
   ]
  },
  {
   "cell_type": "markdown",
   "id": "d38f5262",
   "metadata": {},
   "source": [
    "#### 生成随机数组\n",
    "np.random模块\n",
    "虽然是随机分布，但是可以指定其分布状况"
   ]
  },
  {
   "cell_type": "markdown",
   "id": "154b9a26",
   "metadata": {},
   "source": [
    "##### 均匀分布\n",
    "每组的可能性相等\n",
    "np.random.rand(d0,d1,....dn)\n",
    "返回[0.0，1.0]内的一组均匀分布的数\n",
    "np.random.uniform(low=0.0,high=1.0,size=None)\n",
    "从一个均匀分布（low,high）中随机采样，注意定义域是左闭右开，即包括low，不包含high。\n",
    "参数介绍：\n",
    "low：采样下界，float类型，默认值为0；\n",
    "high：采样上界，float类型，默认值为1；\n",
    "size：输出样本数目，为int或元组(tuple)类型，例如，size=（m,n,k)，则输出mnk个样本，缺省时输出1个值。\n",
    "返回值：ndarray类型，其形状和参数size中描述一致。\n"
   ]
  },
  {
   "cell_type": "code",
   "execution_count": 72,
   "id": "60b29230",
   "metadata": {},
   "outputs": [
    {
     "data": {
      "text/plain": [
       "array([-0.87650597,  0.9955889 , -0.77893573, -0.51247082,  0.96972301,\n",
       "       -0.78579079,  0.37319731,  0.14912432, -0.99783109, -0.39184819,\n",
       "       -0.53635646,  0.43145318,  0.80437037, -0.03819161, -0.72683401,\n",
       "       -0.4682843 ,  0.89954597, -0.67785552,  0.17812975, -0.39546271,\n",
       "        0.91054271,  0.89944229,  0.10186162,  0.10790277, -0.15416171,\n",
       "       -0.6503379 , -0.00797452,  0.459551  , -0.40785073,  0.53135947,\n",
       "       -0.38954101,  0.73313079, -0.26550211, -0.53130089,  0.31808193,\n",
       "       -0.67939762, -0.31681572,  0.51443842, -0.40929359, -0.91715698,\n",
       "       -0.78281197,  0.44190281, -0.98716469,  0.35085096, -0.54620569,\n",
       "       -0.59406857,  0.84978373, -0.471721  , -0.32146824, -0.21615964,\n",
       "        0.06392553,  0.41247344,  0.75224912,  0.67256161,  0.5227516 ,\n",
       "        0.71654967, -0.64713016,  0.76305078,  0.73441982, -0.31850573,\n",
       "       -0.26825556, -0.59680472, -0.46473739, -0.84988706, -0.12954532,\n",
       "        0.87158113, -0.00480618,  0.92957964,  0.74686104, -0.52776989,\n",
       "       -0.56873353, -0.99558559, -0.36932609,  0.50906928,  0.5536686 ,\n",
       "       -0.97936945,  0.21476626,  0.7408491 ,  0.74646453, -0.78087244,\n",
       "        0.05004745, -0.64226447,  0.8577364 ,  0.53395456,  0.5715797 ,\n",
       "       -0.83966276, -0.09380865,  0.60727463,  0.67631412,  0.07350397,\n",
       "       -0.1078616 ,  0.97076898, -0.82539109, -0.94915654, -0.739883  ,\n",
       "       -0.21599527,  0.00744245,  0.84040402, -0.81602436, -0.88657356,\n",
       "       -0.53122027,  0.43106699, -0.26020002,  0.63469894,  0.78702622,\n",
       "        0.62205315, -0.14517572, -0.9702951 ,  0.2234286 , -0.83304258,\n",
       "       -0.50241433,  0.34099702,  0.23621509,  0.74453575,  0.36264799,\n",
       "       -0.75541604, -0.26258214,  0.83980557, -0.64435073,  0.60865106,\n",
       "       -0.76238599,  0.74662833, -0.41296316,  0.09950141, -0.38489639,\n",
       "       -0.71205329,  0.95022622, -0.81694963,  0.65259026,  0.89897703,\n",
       "        0.98151159,  0.01582145, -0.37034848,  0.74005032,  0.19352191,\n",
       "       -0.5857062 ,  0.06250053,  0.37811047, -0.41388258, -0.48818115,\n",
       "       -0.66231321,  0.17673406, -0.15488201, -0.8427693 , -0.00729032,\n",
       "        0.34144063, -0.53098313,  0.05527503, -0.96118963,  0.61691703,\n",
       "        0.4219322 ,  0.76952079,  0.09930973,  0.87816605,  0.48217702,\n",
       "       -0.76432561, -0.91212216, -0.47733715, -0.92975938,  0.57973135,\n",
       "        0.30679761, -0.21729944, -0.38777376, -0.64922957, -0.55256495,\n",
       "        0.76940368,  0.72579388, -0.2039671 , -0.56896632,  0.17960576,\n",
       "       -0.87887523, -0.7087735 , -0.39581163, -0.92074478, -0.22928855,\n",
       "        0.56990254, -0.22673538, -0.25602919, -0.9945306 , -0.58486902,\n",
       "       -0.84707165,  0.663144  , -0.01035806,  0.42883796, -0.92456202,\n",
       "        0.94899807, -0.24217492, -0.23773951,  0.68962092, -0.19790153,\n",
       "        0.02235077, -0.26893081,  0.90618049, -0.11704538, -0.07001125,\n",
       "       -0.29841211,  0.97121629, -0.43157405, -0.62108082,  0.4144732 ,\n",
       "        0.44622355, -0.98015331, -0.57938745,  0.19391296, -0.65148079,\n",
       "       -0.72986966,  0.52517806,  0.53009866, -0.70456687,  0.41756217,\n",
       "       -0.62058292,  0.99312767, -0.61477631, -0.67231385,  0.74690265,\n",
       "        0.92194812, -0.46771022,  0.07269822,  0.13637687, -0.33338844,\n",
       "        0.9806834 , -0.08733543,  0.13879972,  0.83235636, -0.86739048,\n",
       "        0.34810361,  0.63367473, -0.34005813,  0.65539945, -0.3091462 ,\n",
       "        0.62987689,  0.58186366, -0.20633119,  0.02830616,  0.21573317,\n",
       "       -0.73047526, -0.60290418, -0.91722471,  0.53772741, -0.74501559,\n",
       "        0.57418682,  0.35715426, -0.94893134, -0.45533165, -0.22789461,\n",
       "       -0.88205483,  0.80865355, -0.70606406, -0.06355788, -0.98722666,\n",
       "        0.23985446, -0.6794989 , -0.67041781, -0.21193497,  0.09701395,\n",
       "        0.77191705,  0.88863725,  0.34263027,  0.62988195,  0.96189379,\n",
       "       -0.23887253,  0.76111153,  0.55070895, -0.09999225,  0.63610023,\n",
       "        0.90017458, -0.20697533,  0.00647048,  0.38727454,  0.51285046,\n",
       "       -0.19588468, -0.782415  ,  0.12369698,  0.09536385,  0.53405618,\n",
       "       -0.33631506,  0.62020005,  0.68825691, -0.11359495, -0.69847558,\n",
       "        0.2011783 ,  0.79441655, -0.92922817,  0.93131687,  0.83367702,\n",
       "       -0.91493421,  0.0718241 , -0.49166591,  0.76083444, -0.89975282,\n",
       "       -0.01799994, -0.5843319 , -0.54867166,  0.74096466, -0.2894468 ,\n",
       "        0.87654625,  0.29825404, -0.53282091, -0.88335507,  0.00914096,\n",
       "        0.19425869,  0.26999986, -0.82338967, -0.44839205, -0.4253631 ,\n",
       "       -0.52229438,  0.53466678,  0.49723073,  0.75107718, -0.07822301,\n",
       "       -0.5048488 , -0.18690513,  0.0401028 , -0.79668606,  0.30544345,\n",
       "       -0.45110638,  0.70370653, -0.2838644 ,  0.12956059, -0.53726725,\n",
       "       -0.02687049,  0.25239286, -0.21600442,  0.18415182,  0.28806518,\n",
       "       -0.46670845,  0.69679878,  0.16425303,  0.70012244, -0.06547071,\n",
       "        0.11012908,  0.80247812, -0.23598056,  0.28844844, -0.53809406,\n",
       "        0.56721407, -0.65292452, -0.1030377 , -0.39751721, -0.11728358,\n",
       "       -0.31257954,  0.71004896,  0.52599939,  0.13337985, -0.3488455 ,\n",
       "        0.1565767 , -0.84018826, -0.77075516,  0.66253108,  0.78234407,\n",
       "       -0.45861021, -0.39551113,  0.2594326 , -0.80454505,  0.8964465 ,\n",
       "        0.77087586, -0.30579408, -0.6143524 ,  0.75416011,  0.44691878,\n",
       "       -0.2070157 , -0.51817179,  0.45962232, -0.16115457, -0.26331213,\n",
       "       -0.58807625, -0.14108064, -0.63516038,  0.22025208, -0.67129092,\n",
       "        0.00274909, -0.13627954,  0.32656621,  0.12566804,  0.69608095,\n",
       "       -0.58201505,  0.78812851,  0.20760549,  0.09429   , -0.37948297,\n",
       "        0.68469191,  0.06449236, -0.31828612,  0.63437311,  0.65564286,\n",
       "        0.48243147,  0.43643728, -0.16219815,  0.92088191,  0.91146652,\n",
       "        0.95322713,  0.02790546,  0.65432787,  0.21517313, -0.18011423,\n",
       "        0.08658328, -0.15409284, -0.12964837, -0.73466753, -0.81846324,\n",
       "       -0.05614022, -0.88655611,  0.80085292, -0.91565671, -0.26849865,\n",
       "        0.08674719,  0.81115544,  0.36257658, -0.23236991,  0.86346225,\n",
       "       -0.00781648,  0.37713944,  0.09615072, -0.16028763,  0.67055225,\n",
       "       -0.89095241,  0.89823638,  0.28810424,  0.98539183,  0.45155027,\n",
       "       -0.72516386, -0.40506461,  0.31724123, -0.53276579,  0.84498846,\n",
       "        0.7026285 , -0.85037623, -0.31747314, -0.35272309, -0.24928539,\n",
       "       -0.65989506, -0.14182192,  0.95033872, -0.23348575,  0.76689784,\n",
       "        0.92004404,  0.86430558, -0.80066541,  0.54563682,  0.39841044,\n",
       "       -0.03542379,  0.08067316,  0.05767347,  0.89679896,  0.02891366,\n",
       "       -0.21148278, -0.6015346 , -0.62137096, -0.12723082, -0.38554749,\n",
       "       -0.19745828, -0.40817222, -0.70633186, -0.07034776,  0.47922085,\n",
       "       -0.79582705,  0.30821678, -0.23610238, -0.70113398, -0.24552512,\n",
       "       -0.11236234,  0.75251121,  0.2121103 , -0.13392956, -0.0646194 ,\n",
       "       -0.9738188 ,  0.10057118, -0.791426  , -0.1317771 ,  0.47792594,\n",
       "       -0.23081295, -0.14453157, -0.53578173,  0.96880517, -0.57055543,\n",
       "       -0.93989312,  0.98911972,  0.01267522, -0.14084378,  0.85660564,\n",
       "       -0.79729409, -0.91691831, -0.80148241,  0.3705064 , -0.0796289 ,\n",
       "        0.90609753,  0.4619015 , -0.71746461,  0.92465168,  0.39753101,\n",
       "        0.96324333, -0.82960049,  0.159981  , -0.73100659, -0.42623885,\n",
       "       -0.80473775, -0.08187262, -0.20326907,  0.99079462, -0.7786127 ,\n",
       "       -0.52968416,  0.34309366,  0.29894586,  0.95913049,  0.40259496,\n",
       "       -0.35956405,  0.22196601,  0.07131099, -0.80821693,  0.74931067,\n",
       "       -0.89964342,  0.3398247 ,  0.39541761,  0.28639385,  0.01873326,\n",
       "        0.94038943,  0.05633604, -0.03121615,  0.14318978,  0.53957479,\n",
       "       -0.68297764, -0.32518781,  0.20250056, -0.97465178,  0.32112047,\n",
       "        0.88939071, -0.5073912 ,  0.02892991,  0.42863752, -0.66400057,\n",
       "       -0.22068041,  0.1840073 , -0.53726731, -0.43934991, -0.77359947,\n",
       "       -0.10518946,  0.06693469,  0.41723846, -0.3643716 ,  0.96418837,\n",
       "       -0.67556754,  0.9774791 ,  0.14485613, -0.22606644,  0.73120977,\n",
       "        0.94164299,  0.99675574,  0.19827812,  0.09338133, -0.54522946,\n",
       "        0.93022846, -0.80282065, -0.0602289 , -0.41241083, -0.13731931,\n",
       "        0.28702541,  0.65156618, -0.42785005, -0.9310336 , -0.71904745,\n",
       "        0.41164533,  0.8158256 ,  0.91827619, -0.20427347,  0.48560409,\n",
       "       -0.69808705,  0.45713203, -0.22250614,  0.48263514, -0.72279419,\n",
       "       -0.43277797, -0.76200343, -0.84298699,  0.44499193,  0.8641452 ,\n",
       "       -0.25188665,  0.01501939, -0.32499189, -0.50833182, -0.42005281,\n",
       "        0.22332489, -0.76540172,  0.58983752, -0.18107396, -0.31257928,\n",
       "       -0.03154885,  0.32512564,  0.60630738,  0.92867507, -0.94618187,\n",
       "        0.01475023,  0.06923901, -0.10540349, -0.98289684, -0.60908076,\n",
       "       -0.58257735,  0.84124345,  0.91144215,  0.05561164,  0.2735358 ,\n",
       "       -0.06533227,  0.04503179,  0.130332  ,  0.26249691,  0.19975113,\n",
       "        0.95953269,  0.69376081,  0.0018073 , -0.30574438,  0.84797985,\n",
       "        0.41799258, -0.79451178,  0.45089354,  0.12390619,  0.61956312,\n",
       "        0.8283892 ,  0.17979455, -0.20259215,  0.44258325,  0.94811486,\n",
       "       -0.43234572,  0.68812944, -0.07288046, -0.58913051, -0.65162023,\n",
       "       -0.4274955 , -0.02656276, -0.98830934,  0.44634039, -0.76031473,\n",
       "        0.45823131, -0.88837993,  0.59438178, -0.01781706, -0.41735147,\n",
       "        0.16483778, -0.0698788 ,  0.53487262, -0.80601798, -0.86108155,\n",
       "       -0.49025851,  0.06253873,  0.20083386, -0.80976485,  0.10081179,\n",
       "       -0.67966846,  0.03002299,  0.44050406, -0.23702284,  0.68425716,\n",
       "        0.72935754,  0.04061871, -0.82367939,  0.48388801, -0.51908526,\n",
       "        0.37758244,  0.82198391,  0.36618101,  0.74121633,  0.96106819,\n",
       "       -0.64313874, -0.66625081, -0.01185473,  0.54750477, -0.6210755 ,\n",
       "       -0.71484524,  0.11392647, -0.80440349,  0.94644936, -0.93618758,\n",
       "       -0.73310541, -0.2016047 , -0.09188691,  0.53616049,  0.72325078,\n",
       "       -0.30555649,  0.05538326,  0.92847425,  0.8156834 ,  0.18941209,\n",
       "       -0.56718565,  0.58354452, -0.58817778, -0.15814414, -0.57738288,\n",
       "       -0.42482163, -0.8921407 ,  0.66510465, -0.80489908,  0.1779745 ,\n",
       "       -0.45615698, -0.41467686,  0.76896762,  0.25752883,  0.16817544,\n",
       "        0.72411303, -0.46713072, -0.14932796,  0.1801622 ,  0.55827092,\n",
       "        0.45543062,  0.65092405, -0.04368483, -0.70369832, -0.10908123,\n",
       "       -0.24166817,  0.92048298,  0.2823344 ,  0.70525055,  0.91627336,\n",
       "        0.8213836 ,  0.0917764 , -0.9089471 , -0.07533068,  0.77730409,\n",
       "       -0.43506086, -0.1959717 , -0.56931988,  0.17866623, -0.18773364,\n",
       "        0.96503707,  0.65139877,  0.24775923, -0.1685543 ,  0.09452757,\n",
       "        0.90562214,  0.85889357,  0.78023222,  0.89451994, -0.31859339,\n",
       "        0.04866323, -0.218358  , -0.21328059, -0.27469911, -0.67124964,\n",
       "        0.80531793,  0.95818684,  0.65796962, -0.78517499, -0.08505109,\n",
       "       -0.09212479, -0.06113374, -0.06925766, -0.70252412,  0.11453602,\n",
       "       -0.87556481,  0.53609816,  0.65950748,  0.58528246,  0.05297893,\n",
       "        0.1355738 ,  0.19901714,  0.83096853, -0.44314257,  0.60276656,\n",
       "        0.92241701,  0.44473325, -0.09541578,  0.00354409,  0.47841587,\n",
       "        0.84512857, -0.47328646, -0.08562511,  0.07354793, -0.07121282,\n",
       "       -0.3150048 ,  0.80646746,  0.43678778,  0.12028582, -0.61530675,\n",
       "        0.39057041, -0.64679461,  0.98343996, -0.46996398, -0.60320644,\n",
       "        0.59171989,  0.933537  ,  0.1250869 , -0.32614585,  0.15513559,\n",
       "       -0.26567298,  0.83416777, -0.79852395, -0.02924713,  0.87656397,\n",
       "        0.61126285, -0.22643953,  0.17625367,  0.96276911, -0.01119897,\n",
       "        0.09949401, -0.45085155, -0.70657238,  0.09303542, -0.09093926,\n",
       "       -0.48636268,  0.5093031 ,  0.80267818,  0.9202708 ,  0.72166306,\n",
       "        0.0682125 ,  0.62078947,  0.40471828,  0.27466565,  0.62714204,\n",
       "        0.80283754,  0.04671607, -0.9820657 ,  0.57023898, -0.6242295 ,\n",
       "       -0.68521466, -0.6230795 , -0.06755425,  0.26601882, -0.23727452,\n",
       "        0.46465862, -0.11561911,  0.04074854, -0.11404918, -0.66093257,\n",
       "       -0.6734341 , -0.41176681,  0.1888502 , -0.89559026, -0.17716002,\n",
       "       -0.68687232, -0.05408917, -0.15790093, -0.01225131,  0.05276331,\n",
       "        0.73964403, -0.22196208, -0.89216873,  0.30762649,  0.05503278,\n",
       "        0.16012377, -0.25011099, -0.03164498, -0.65860897, -0.2688948 ,\n",
       "        0.15552919, -0.58248075, -0.7528719 ,  0.00964495, -0.26370541,\n",
       "       -0.48843564, -0.04462918,  0.76832124,  0.82835561, -0.89275794,\n",
       "       -0.07440395,  0.02655272, -0.99839176,  0.58161505,  0.73855593,\n",
       "       -0.74884331,  0.71210733,  0.16011211, -0.00198524, -0.22095454,\n",
       "       -0.91432263, -0.59164489, -0.60335373, -0.25816832,  0.72741499,\n",
       "        0.22509839,  0.73435222, -0.21632741,  0.80733472, -0.74653031,\n",
       "        0.67950908, -0.15751391,  0.74540207, -0.88668014, -0.67702326,\n",
       "       -0.33106798,  0.65157237,  0.09938459,  0.84141408, -0.63021684,\n",
       "        0.83032418, -0.44471149,  0.94009672, -0.16969827,  0.95900266,\n",
       "       -0.81037966, -0.15179678, -0.41672356, -0.36043894,  0.95152533,\n",
       "       -0.22088367, -0.58595908, -0.57833429,  0.81280194,  0.5722761 ,\n",
       "       -0.60575143, -0.83594634, -0.54247333,  0.98440695,  0.10593014,\n",
       "       -0.38497236, -0.26241448, -0.0395249 , -0.24168574,  0.00502762,\n",
       "        0.23929013, -0.50956682,  0.21194314,  0.5138336 , -0.04181247,\n",
       "       -0.56871168,  0.50828429, -0.83363001, -0.59939279,  0.35006062,\n",
       "        0.27515308,  0.89854153, -0.28589816,  0.15542936, -0.64144443,\n",
       "        0.15765652,  0.76481921, -0.08409918,  0.03211725, -0.37833303,\n",
       "        0.90854716, -0.90814789, -0.32912379, -0.05785868,  0.22189608,\n",
       "        0.51332895, -0.08800009,  0.00320021,  0.98696869, -0.52016687,\n",
       "        0.0545196 ,  0.15040291, -0.78149074,  0.74978054,  0.06772606,\n",
       "       -0.61843771, -0.74750271, -0.75397956,  0.09980701,  0.75543835,\n",
       "       -0.47538528,  0.54748523,  0.51491916, -0.43679445,  0.52863271,\n",
       "        0.46199744,  0.15951726,  0.42364113, -0.48043112,  0.71153442,\n",
       "       -0.11387436, -0.38609673,  0.12527425, -0.70385438,  0.05575996,\n",
       "        0.86259428, -0.1505604 , -0.83490308,  0.03862821,  0.27606042,\n",
       "        0.34154365, -0.32042921, -0.98751553, -0.3778341 , -0.26761863,\n",
       "        0.28891752, -0.25543877, -0.37605809, -0.98566042,  0.64466279,\n",
       "       -0.9869099 ,  0.47444142,  0.19805269,  0.65197548, -0.76581798,\n",
       "       -0.70027374,  0.73030592, -0.63419071, -0.91242653, -0.08431127,\n",
       "        0.29918162,  0.76832469,  0.30927386,  0.63541486, -0.05419922,\n",
       "       -0.53235714, -0.55019686,  0.41989274,  0.99851475,  0.98663824,\n",
       "        0.62539613,  0.99838951,  0.49337757, -0.65205499,  0.95082954])"
      ]
     },
     "execution_count": 72,
     "metadata": {},
     "output_type": "execute_result"
    }
   ],
   "source": [
    "data = np.random.uniform(-1,1,1000)\n",
    "data"
   ]
  },
  {
   "cell_type": "code",
   "execution_count": 74,
   "id": "84eead10",
   "metadata": {},
   "outputs": [
    {
     "data": {
      "image/png": "[encoded data removed]",
      "text/plain": [
       "<Figure size 1600x640 with 1 Axes>"
      ]
     },
     "metadata": {
      "needs_background": "light"
     },
     "output_type": "display_data"
    }
   ],
   "source": [
    "import matplotlib.pyplot as plt\n",
    "# 创建画布，绘制直方图，显示图像\n",
    "plt.figure(figsize=(20,8),dpi=80)\n",
    "plt.hist(data,10)\n",
    "plt.show()"
   ]
  },
  {
   "cell_type": "markdown",
   "id": "a08dc0ee",
   "metadata": {},
   "source": [
    "##### 正态分布\n",
    "正态分布有两个参数μ和cigema的连续型随机变量的分布。μ是服从正态分布的随机变量的均值，cigema是此随机变量的标准差。\n",
    "μ决定对称轴在哪里，cigema决定数据的离散程度，cigema越大，数据越分散。\n",
    "np.random.normal(loc=0.0,scale=1.0,size=None)\n",
    "loc:float 此概率分布的均值。scale：float 此概率分布的标准差（对应于发呢不得宽度，scale越大越矮胖）"
   ]
  },
  {
   "cell_type": "code",
   "execution_count": 81,
   "id": "e55dbfc2",
   "metadata": {},
   "outputs": [
    {
     "data": {
      "text/plain": [
       "array([1.66771515, 1.77248263, 1.7453018 , ..., 1.71183778, 1.76447606,\n",
       "       1.72544317])"
      ]
     },
     "execution_count": 81,
     "metadata": {},
     "output_type": "execute_result"
    }
   ],
   "source": [
    "data = np.random.normal(1.75,0.1,10000)\n",
    "data"
   ]
  },
  {
   "cell_type": "code",
   "execution_count": 83,
   "id": "67d06d3c",
   "metadata": {},
   "outputs": [
    {
     "data": {
      "image/png": "[encoded data removed]",
      "text/plain": [
       "<Figure size 1600x640 with 1 Axes>"
      ]
     },
     "metadata": {
      "needs_background": "light"
     },
     "output_type": "display_data"
    }
   ],
   "source": [
    "import matplotlib.pyplot as plt\n",
    "# 创建画布，绘制直方图，显示图像\n",
    "plt.figure(figsize=(20,8),dpi=80)\n",
    "plt.hist(data,100)\n",
    "plt.show()"
   ]
  },
  {
   "cell_type": "markdown",
   "id": "1fd6fc7d",
   "metadata": {},
   "source": [
    "### 2.2 切片索引与形状修改\n",
    "使用案例来演示\n",
    "随机生成8只股票两周的交易日涨幅数据\n",
    "8只股票，两周（10天）的涨跌幅数据，两周的交易日数量为10天，随机生成涨跌幅在某个正态分布内，比如均值0，方差1"
   ]
  },
  {
   "cell_type": "code",
   "execution_count": 84,
   "id": "9fa00227",
   "metadata": {},
   "outputs": [
    {
     "data": {
      "text/plain": [
       "array([[-1.98116771, -0.00679245, -1.63999224, -0.10061343, -1.44887824,\n",
       "        -1.40300603,  0.67204225,  0.57871163, -0.30585349,  0.30057738],\n",
       "       [-0.79241184,  1.02146709,  0.34178773,  0.07733896,  0.48828462,\n",
       "        -0.09163362, -0.4550974 , -0.41132117, -0.92894271,  0.60623699],\n",
       "       [ 0.57342799, -0.72538864,  0.88472134,  1.28580745,  1.00253805,\n",
       "        -0.03384139,  0.42029113, -0.38148132, -0.68523279,  0.20134906],\n",
       "       [-0.24400952,  0.40261586,  1.01138533,  1.00330552,  1.06144843,\n",
       "         0.20784496,  0.96933536,  0.19745689, -0.94631819,  0.46835164],\n",
       "       [ 0.30031697,  0.42870459, -0.01629264,  0.73585711,  0.83274582,\n",
       "         0.70626783, -0.01619121, -1.50235301,  1.55787176, -0.08280482],\n",
       "       [-0.54538044,  0.89286764,  0.24396964, -0.26236375,  1.37003264,\n",
       "        -0.76294842, -2.26389629,  2.18372923,  0.20512953,  0.93225589],\n",
       "       [ 1.12173647, -0.33527318,  0.05713424,  0.06501089,  1.06454013,\n",
       "         0.22375118, -0.02408421,  0.96287916, -0.59854706, -1.2594373 ],\n",
       "       [ 0.31266579, -1.61544761,  0.47085871,  1.23843243,  0.70309642,\n",
       "        -1.23650723, -0.25732679,  0.66070896, -0.25079451,  1.52259072]])"
      ]
     },
     "execution_count": 84,
     "metadata": {},
     "output_type": "execute_result"
    }
   ],
   "source": [
    "# 创建符合正态分布的8只股票10天的涨跌幅数据\n",
    "stock_change = np.random.normal(0,1,(8,10))\n",
    "stock_change"
   ]
  },
  {
   "cell_type": "markdown",
   "id": "2a55c3d6",
   "metadata": {},
   "source": [
    "#### 数组的索引、切片"
   ]
  },
  {
   "cell_type": "code",
   "execution_count": 85,
   "id": "6d6e18ae",
   "metadata": {},
   "outputs": [
    {
     "data": {
      "text/plain": [
       "array([-1.98116771, -0.00679245, -1.63999224])"
      ]
     },
     "execution_count": 85,
     "metadata": {},
     "output_type": "execute_result"
    }
   ],
   "source": [
    "# 获取第一个股票的前三个交易日的涨跌幅数据\n",
    "stock_change[0,:3]"
   ]
  },
  {
   "cell_type": "code",
   "execution_count": 88,
   "id": "eec19ee5",
   "metadata": {},
   "outputs": [
    {
     "data": {
      "text/plain": [
       "(2, 2, 3)"
      ]
     },
     "execution_count": 88,
     "metadata": {},
     "output_type": "execute_result"
    }
   ],
   "source": [
    "# 三维数据获取\n",
    "a = np.array([[[1,2,3],[4,5,6]],[[12,13,14],[21,23,24]]])\n",
    "a.shape"
   ]
  },
  {
   "cell_type": "code",
   "execution_count": 89,
   "id": "3af31c59",
   "metadata": {},
   "outputs": [
    {
     "data": {
      "text/plain": [
       "23"
      ]
     },
     "execution_count": 89,
     "metadata": {},
     "output_type": "execute_result"
    }
   ],
   "source": [
    "a[1,1,1]"
   ]
  },
  {
   "cell_type": "code",
   "execution_count": 90,
   "id": "c6560033",
   "metadata": {},
   "outputs": [],
   "source": [
    "# 修改这个元素\n",
    "a[1,1,1] = 10000"
   ]
  },
  {
   "cell_type": "code",
   "execution_count": 91,
   "id": "0140525b",
   "metadata": {},
   "outputs": [
    {
     "data": {
      "text/plain": [
       "array([[[    1,     2,     3],\n",
       "        [    4,     5,     6]],\n",
       "\n",
       "       [[   12,    13,    14],\n",
       "        [   21, 10000,    24]]])"
      ]
     },
     "execution_count": 91,
     "metadata": {},
     "output_type": "execute_result"
    }
   ],
   "source": [
    "a"
   ]
  },
  {
   "cell_type": "markdown",
   "id": "fc5968e9",
   "metadata": {},
   "source": [
    "#### 数组形状修改\n",
    "reshape只是修改形状，并没有把行列进行转换，返回新的ndarray，对原始的没有影响\n",
    "resize没有返回值，对原始的ndarray进行了修改\n",
    "ndarray.T 数组的转置"
   ]
  },
  {
   "cell_type": "code",
   "execution_count": 92,
   "id": "2f423af6",
   "metadata": {},
   "outputs": [
    {
     "data": {
      "text/plain": [
       "array([[-1.98116771, -0.00679245, -1.63999224, -0.10061343, -1.44887824,\n",
       "        -1.40300603,  0.67204225,  0.57871163, -0.30585349,  0.30057738],\n",
       "       [-0.79241184,  1.02146709,  0.34178773,  0.07733896,  0.48828462,\n",
       "        -0.09163362, -0.4550974 , -0.41132117, -0.92894271,  0.60623699],\n",
       "       [ 0.57342799, -0.72538864,  0.88472134,  1.28580745,  1.00253805,\n",
       "        -0.03384139,  0.42029113, -0.38148132, -0.68523279,  0.20134906],\n",
       "       [-0.24400952,  0.40261586,  1.01138533,  1.00330552,  1.06144843,\n",
       "         0.20784496,  0.96933536,  0.19745689, -0.94631819,  0.46835164],\n",
       "       [ 0.30031697,  0.42870459, -0.01629264,  0.73585711,  0.83274582,\n",
       "         0.70626783, -0.01619121, -1.50235301,  1.55787176, -0.08280482],\n",
       "       [-0.54538044,  0.89286764,  0.24396964, -0.26236375,  1.37003264,\n",
       "        -0.76294842, -2.26389629,  2.18372923,  0.20512953,  0.93225589],\n",
       "       [ 1.12173647, -0.33527318,  0.05713424,  0.06501089,  1.06454013,\n",
       "         0.22375118, -0.02408421,  0.96287916, -0.59854706, -1.2594373 ],\n",
       "       [ 0.31266579, -1.61544761,  0.47085871,  1.23843243,  0.70309642,\n",
       "        -1.23650723, -0.25732679,  0.66070896, -0.25079451,  1.52259072]])"
      ]
     },
     "execution_count": 92,
     "metadata": {},
     "output_type": "execute_result"
    }
   ],
   "source": [
    "stock_change"
   ]
  },
  {
   "cell_type": "code",
   "execution_count": 93,
   "id": "f3f7fdce",
   "metadata": {},
   "outputs": [
    {
     "data": {
      "text/plain": [
       "(8, 10)"
      ]
     },
     "execution_count": 93,
     "metadata": {},
     "output_type": "execute_result"
    }
   ],
   "source": [
    "stock_change.shape"
   ]
  },
  {
   "cell_type": "code",
   "execution_count": 97,
   "id": "820dc947",
   "metadata": {},
   "outputs": [],
   "source": [
    "restock_change = stock_change.reshape(10,8)"
   ]
  },
  {
   "cell_type": "code",
   "execution_count": 98,
   "id": "35909559",
   "metadata": {},
   "outputs": [
    {
     "data": {
      "text/plain": [
       "(10, 8)"
      ]
     },
     "execution_count": 98,
     "metadata": {},
     "output_type": "execute_result"
    }
   ],
   "source": [
    "restock_change.shape"
   ]
  },
  {
   "cell_type": "markdown",
   "id": "4fdf1b09",
   "metadata": {},
   "source": [
    "#### 数组类型修改\n",
    "ndarray.astype(type)\n",
    "ndarray序列化到本地，ndarray.tostring()。转换成bytes。\n",
    "#### 数组去重"
   ]
  },
  {
   "cell_type": "code",
   "execution_count": 99,
   "id": "89428704",
   "metadata": {},
   "outputs": [],
   "source": [
    "temp = np.array([[1,2,3,4],[3,4,5,6]])"
   ]
  },
  {
   "cell_type": "code",
   "execution_count": 100,
   "id": "6ace03ba",
   "metadata": {},
   "outputs": [
    {
     "data": {
      "text/plain": [
       "array([[1, 2, 3, 4],\n",
       "       [3, 4, 5, 6]])"
      ]
     },
     "execution_count": 100,
     "metadata": {},
     "output_type": "execute_result"
    }
   ],
   "source": [
    "temp"
   ]
  },
  {
   "cell_type": "code",
   "execution_count": 101,
   "id": "3578e8d4",
   "metadata": {},
   "outputs": [
    {
     "data": {
      "text/plain": [
       "array([1, 2, 3, 4, 5, 6])"
      ]
     },
     "execution_count": 101,
     "metadata": {},
     "output_type": "execute_result"
    }
   ],
   "source": [
    "np.unique(temp)"
   ]
  },
  {
   "cell_type": "code",
   "execution_count": 103,
   "id": "05e25246",
   "metadata": {},
   "outputs": [
    {
     "data": {
      "text/plain": [
       "{1, 2, 3, 4, 5, 6}"
      ]
     },
     "execution_count": 103,
     "metadata": {},
     "output_type": "execute_result"
    }
   ],
   "source": [
    "# 将二维数组变成一维\n",
    "set(temp.flatten())"
   ]
  },
  {
   "cell_type": "markdown",
   "id": "75caaf53",
   "metadata": {},
   "source": [
    "## 3 numpy运算"
   ]
  },
  {
   "cell_type": "markdown",
   "id": "1e692a56",
   "metadata": {},
   "source": [
    "### 3.1 逻辑运算"
   ]
  },
  {
   "cell_type": "code",
   "execution_count": 104,
   "id": "8e88c5ca",
   "metadata": {},
   "outputs": [],
   "source": [
    "stock_change = np.random.normal(0,1,(8,10))"
   ]
  },
  {
   "cell_type": "code",
   "execution_count": 105,
   "id": "6c3ed8b3",
   "metadata": {},
   "outputs": [
    {
     "data": {
      "text/plain": [
       "array([[-2.51361938,  0.40709834,  1.70285285,  1.0745151 ,  0.02378218,\n",
       "         0.8014865 , -1.61542012, -0.96891048, -0.50679339,  0.89914699],\n",
       "       [-1.76107902,  1.25529617,  0.48915527,  0.07308983, -0.13807358,\n",
       "         1.26742278,  0.258076  , -0.52502759,  0.59354763,  0.61189414],\n",
       "       [-0.27149455,  0.86909448,  0.87056892,  0.13622662, -0.51918653,\n",
       "         0.83544609,  0.94833707, -1.04134833, -0.50582594,  1.55918669],\n",
       "       [ 0.19070461, -0.58744921, -0.29437833,  0.22342505,  1.43114885,\n",
       "        -1.3851431 , -1.28547022,  0.01764335,  0.18940549, -0.67001238],\n",
       "       [-0.65154234, -0.62541142, -1.55170499,  0.21575769,  0.0618338 ,\n",
       "         0.88529655, -0.01803832,  1.15978121,  1.27227245, -0.42242664],\n",
       "       [-0.91834218,  0.42159031, -0.60511434,  0.63287195, -0.97016418,\n",
       "         0.35980238,  1.37295609,  1.10474924,  0.94753603,  0.82156993],\n",
       "       [ 0.26314165, -0.65491017,  0.82343048,  0.30372698, -0.85780727,\n",
       "         0.04072479, -2.93937128, -1.56837221, -0.31160877,  2.00380451],\n",
       "       [ 1.9040107 , -0.1697863 ,  0.08074413,  0.08324537,  2.44603173,\n",
       "        -0.55348583, -0.05834839,  1.61915684, -0.44085418, -0.69564486]])"
      ]
     },
     "execution_count": 105,
     "metadata": {},
     "output_type": "execute_result"
    }
   ],
   "source": [
    "stock_change"
   ]
  },
  {
   "cell_type": "code",
   "execution_count": 106,
   "id": "18b54bb4",
   "metadata": {},
   "outputs": [
    {
     "data": {
      "text/plain": [
       "array([[False, False,  True,  True, False,  True, False, False, False,\n",
       "         True],\n",
       "       [False,  True, False, False, False,  True, False, False,  True,\n",
       "         True],\n",
       "       [False,  True,  True, False, False,  True,  True, False, False,\n",
       "         True],\n",
       "       [False, False, False, False,  True, False, False, False, False,\n",
       "        False],\n",
       "       [False, False, False, False, False,  True, False,  True,  True,\n",
       "        False],\n",
       "       [False, False, False,  True, False, False,  True,  True,  True,\n",
       "         True],\n",
       "       [False, False,  True, False, False, False, False, False, False,\n",
       "         True],\n",
       "       [ True, False, False, False,  True, False, False,  True, False,\n",
       "        False]])"
      ]
     },
     "execution_count": 106,
     "metadata": {},
     "output_type": "execute_result"
    }
   ],
   "source": [
    "# 逻辑判断，如果涨跌幅大于0.5就标记为Ture，否则为False\n",
    "stock_change > 0.5"
   ]
  },
  {
   "cell_type": "code",
   "execution_count": 107,
   "id": "0f398e42",
   "metadata": {},
   "outputs": [
    {
     "data": {
      "text/plain": [
       "array([1.70285285, 1.0745151 , 0.8014865 , 0.89914699, 1.25529617,\n",
       "       1.26742278, 0.59354763, 0.61189414, 0.86909448, 0.87056892,\n",
       "       0.83544609, 0.94833707, 1.55918669, 1.43114885, 0.88529655,\n",
       "       1.15978121, 1.27227245, 0.63287195, 1.37295609, 1.10474924,\n",
       "       0.94753603, 0.82156993, 0.82343048, 2.00380451, 1.9040107 ,\n",
       "       2.44603173, 1.61915684])"
      ]
     },
     "execution_count": 107,
     "metadata": {},
     "output_type": "execute_result"
    }
   ],
   "source": [
    "# 布尔索引\n",
    "# 对满足涨跌幅大于0.5的数值进行统一操作\n",
    "stock_change[stock_change > 0.5]     # 选取出大于0.5的值"
   ]
  },
  {
   "cell_type": "code",
   "execution_count": 108,
   "id": "5137e590",
   "metadata": {},
   "outputs": [],
   "source": [
    "# 统一修改为1.1\n",
    "stock_change[stock_change > 0.5] = 1.1"
   ]
  },
  {
   "cell_type": "code",
   "execution_count": 110,
   "id": "f40582ec",
   "metadata": {},
   "outputs": [
    {
     "data": {
      "text/plain": [
       "array([[-2.51361938,  0.40709834,  1.1       ,  1.1       ,  0.02378218,\n",
       "         1.1       , -1.61542012, -0.96891048, -0.50679339,  1.1       ],\n",
       "       [-1.76107902,  1.1       ,  0.48915527,  0.07308983, -0.13807358,\n",
       "         1.1       ,  0.258076  , -0.52502759,  1.1       ,  1.1       ],\n",
       "       [-0.27149455,  1.1       ,  1.1       ,  0.13622662, -0.51918653,\n",
       "         1.1       ,  1.1       , -1.04134833, -0.50582594,  1.1       ],\n",
       "       [ 0.19070461, -0.58744921, -0.29437833,  0.22342505,  1.1       ,\n",
       "        -1.3851431 , -1.28547022,  0.01764335,  0.18940549, -0.67001238],\n",
       "       [-0.65154234, -0.62541142, -1.55170499,  0.21575769,  0.0618338 ,\n",
       "         1.1       , -0.01803832,  1.1       ,  1.1       , -0.42242664],\n",
       "       [-0.91834218,  0.42159031, -0.60511434,  1.1       , -0.97016418,\n",
       "         0.35980238,  1.1       ,  1.1       ,  1.1       ,  1.1       ],\n",
       "       [ 0.26314165, -0.65491017,  1.1       ,  0.30372698, -0.85780727,\n",
       "         0.04072479, -2.93937128, -1.56837221, -0.31160877,  1.1       ],\n",
       "       [ 1.1       , -0.1697863 ,  0.08074413,  0.08324537,  1.1       ,\n",
       "        -0.55348583, -0.05834839,  1.1       , -0.44085418, -0.69564486]])"
      ]
     },
     "execution_count": 110,
     "metadata": {},
     "output_type": "execute_result"
    }
   ],
   "source": [
    "stock_change"
   ]
  },
  {
   "cell_type": "markdown",
   "id": "41a50f36",
   "metadata": {},
   "source": [
    "#### 通用判断函数"
   ]
  },
  {
   "cell_type": "code",
   "execution_count": 111,
   "id": "28c6294b",
   "metadata": {},
   "outputs": [
    {
     "data": {
      "text/plain": [
       "False"
      ]
     },
     "execution_count": 111,
     "metadata": {},
     "output_type": "execute_result"
    }
   ],
   "source": [
    "# 判断stock_change[0:2,0:5]是否全是上涨的\n",
    "np.all(stock_change[0:2,0:5] > 0)"
   ]
  },
  {
   "cell_type": "code",
   "execution_count": 112,
   "id": "ac0c490a",
   "metadata": {},
   "outputs": [
    {
     "data": {
      "text/plain": [
       "True"
      ]
     },
     "execution_count": 112,
     "metadata": {},
     "output_type": "execute_result"
    }
   ],
   "source": [
    "# 判断stock_change[0:2,0:5]是否有上涨的\n",
    "np.any(stock_change[0:2,0:5] > 0)"
   ]
  },
  {
   "cell_type": "markdown",
   "id": "d9fb3c52",
   "metadata": {},
   "source": [
    "#### 三元运算符\n",
    "np.where进行更加负责的运算"
   ]
  },
  {
   "cell_type": "code",
   "execution_count": 113,
   "id": "5963b3a6",
   "metadata": {},
   "outputs": [],
   "source": [
    "# 判断前四个股票前四天的涨跌幅，大于0的置为1，否则为0\n",
    "temp = stock_change[:4,:4]"
   ]
  },
  {
   "cell_type": "code",
   "execution_count": 114,
   "id": "a4bfbc30",
   "metadata": {},
   "outputs": [
    {
     "data": {
      "text/plain": [
       "array([[-2.51361938,  0.40709834,  1.1       ,  1.1       ],\n",
       "       [-1.76107902,  1.1       ,  0.48915527,  0.07308983],\n",
       "       [-0.27149455,  1.1       ,  1.1       ,  0.13622662],\n",
       "       [ 0.19070461, -0.58744921, -0.29437833,  0.22342505]])"
      ]
     },
     "execution_count": 114,
     "metadata": {},
     "output_type": "execute_result"
    }
   ],
   "source": [
    "temp"
   ]
  },
  {
   "cell_type": "code",
   "execution_count": 115,
   "id": "7976efbd",
   "metadata": {},
   "outputs": [
    {
     "data": {
      "text/plain": [
       "array([[0, 1, 1, 1],\n",
       "       [0, 1, 1, 1],\n",
       "       [0, 1, 1, 1],\n",
       "       [1, 0, 0, 1]])"
      ]
     },
     "execution_count": 115,
     "metadata": {},
     "output_type": "execute_result"
    }
   ],
   "source": [
    "np.where(temp >0,1,0)"
   ]
  },
  {
   "cell_type": "markdown",
   "id": "28052885",
   "metadata": {},
   "source": [
    "复合逻辑需要结合np.logical_and和np.logical_or使用"
   ]
  },
  {
   "cell_type": "code",
   "execution_count": 116,
   "id": "e26eb9c4",
   "metadata": {},
   "outputs": [
    {
     "data": {
      "text/plain": [
       "array([[0, 0, 0, 0],\n",
       "       [0, 0, 0, 0],\n",
       "       [0, 0, 0, 0],\n",
       "       [0, 0, 0, 0]])"
      ]
     },
     "execution_count": 116,
     "metadata": {},
     "output_type": "execute_result"
    }
   ],
   "source": [
    "# 判断前四个股票前四天的涨跌幅，大于0.5并且小于1的，置为1，否则为0\n",
    "np.where(np.logical_and(temp>0.5,temp<1),1,0)"
   ]
  },
  {
   "cell_type": "code",
   "execution_count": 117,
   "id": "3b6355cd",
   "metadata": {},
   "outputs": [
    {
     "data": {
      "text/plain": [
       "array([[1, 1, 1, 1],\n",
       "       [1, 1, 1, 1],\n",
       "       [1, 1, 1, 1],\n",
       "       [1, 1, 1, 1]])"
      ]
     },
     "execution_count": 117,
     "metadata": {},
     "output_type": "execute_result"
    }
   ],
   "source": [
    "# 判断前四个股票前四天的涨跌幅，大于0.5或者小于1的，置为1，否则为0\n",
    "np.where(np.logical_or(temp>0.5,temp<1),1,0)"
   ]
  },
  {
   "cell_type": "markdown",
   "id": "61770c36",
   "metadata": {},
   "source": [
    "### 3.2 统计运算\n",
    "统计指标函数：min，max，mean，median，var，std"
   ]
  },
  {
   "cell_type": "code",
   "execution_count": 118,
   "id": "92b6c3fb",
   "metadata": {},
   "outputs": [
    {
     "data": {
      "text/plain": [
       "array([[-2.51361938,  0.40709834,  1.1       ,  1.1       ],\n",
       "       [-1.76107902,  1.1       ,  0.48915527,  0.07308983],\n",
       "       [-0.27149455,  1.1       ,  1.1       ,  0.13622662],\n",
       "       [ 0.19070461, -0.58744921, -0.29437833,  0.22342505]])"
      ]
     },
     "execution_count": 118,
     "metadata": {},
     "output_type": "execute_result"
    }
   ],
   "source": [
    "temp"
   ]
  },
  {
   "cell_type": "code",
   "execution_count": 119,
   "id": "08293152",
   "metadata": {},
   "outputs": [
    {
     "data": {
      "text/plain": [
       "array([1.1       , 1.1       , 1.1       , 0.22342505])"
      ]
     },
     "execution_count": 119,
     "metadata": {},
     "output_type": "execute_result"
    }
   ],
   "source": [
    "# 按行求最大值\n",
    "np.max(temp,axis = 1)"
   ]
  },
  {
   "cell_type": "code",
   "execution_count": 120,
   "id": "45fa0bcb",
   "metadata": {},
   "outputs": [
    {
     "data": {
      "text/plain": [
       "array([0.19070461, 1.1       , 1.1       , 1.1       ])"
      ]
     },
     "execution_count": 120,
     "metadata": {},
     "output_type": "execute_result"
    }
   ],
   "source": [
    "# 按列求最大值\n",
    "np.max(temp,axis = 0)"
   ]
  },
  {
   "cell_type": "code",
   "execution_count": 121,
   "id": "02521f0f",
   "metadata": {},
   "outputs": [
    {
     "data": {
      "text/plain": [
       "array([2, 1, 1, 3], dtype=int64)"
      ]
     },
     "execution_count": 121,
     "metadata": {},
     "output_type": "execute_result"
    }
   ],
   "source": [
    "# 返回最大值，最小值的位置,按照行\n",
    "np.argmax(temp,axis = 1)"
   ]
  },
  {
   "cell_type": "code",
   "execution_count": 122,
   "id": "b5a6197c",
   "metadata": {},
   "outputs": [
    {
     "data": {
      "text/plain": [
       "array([0, 0, 0, 1], dtype=int64)"
      ]
     },
     "execution_count": 122,
     "metadata": {},
     "output_type": "execute_result"
    }
   ],
   "source": [
    "np.argmin(temp,axis = 1)"
   ]
  },
  {
   "cell_type": "markdown",
   "id": "ae11392e",
   "metadata": {},
   "source": [
    "### 3.3 数组间运算\n",
    "广播机制：执行broadcast的前提在于，两个ndarray执行的是element-wise的运算，Broadcast机制的功能是为了方便不同形状的ndarray进行数学运算。\n",
    "维度相等或shape（其中相对应的一个地方为1）\n",
    "案例为8个学生的成绩，第一列为平时成绩，第二列为期末成绩，需要计算最终成绩；"
   ]
  },
  {
   "cell_type": "code",
   "execution_count": 124,
   "id": "40dcb2ee",
   "metadata": {},
   "outputs": [
    {
     "data": {
      "text/plain": [
       "array([[80, 86],\n",
       "       [82, 80],\n",
       "       [85, 78],\n",
       "       [90, 90],\n",
       "       [86, 82],\n",
       "       [82, 90],\n",
       "       [78, 80],\n",
       "       [92, 94]])"
      ]
     },
     "execution_count": 124,
     "metadata": {},
     "output_type": "execute_result"
    }
   ],
   "source": [
    "np.array([[80,86],[82,80],[85,78],[90,90],[86,82],[82,90],[78,80],[92,94]])"
   ]
  },
  {
   "cell_type": "code",
   "execution_count": 125,
   "id": "ebed5859",
   "metadata": {},
   "outputs": [],
   "source": [
    "# 数组与数的运算\n",
    "arr = np.array([[1,2,3,2,1,4],[5,6,1,2,3,1]])"
   ]
  },
  {
   "cell_type": "code",
   "execution_count": 126,
   "id": "4cc86e45",
   "metadata": {},
   "outputs": [
    {
     "data": {
      "text/plain": [
       "array([[2, 3, 4, 3, 2, 5],\n",
       "       [6, 7, 2, 3, 4, 2]])"
      ]
     },
     "execution_count": 126,
     "metadata": {},
     "output_type": "execute_result"
    }
   ],
   "source": [
    "arr +1"
   ]
  },
  {
   "cell_type": "code",
   "execution_count": 127,
   "id": "2b49fd19",
   "metadata": {},
   "outputs": [
    {
     "data": {
      "text/plain": [
       "array([[0.5, 1. , 1.5, 1. , 0.5, 2. ],\n",
       "       [2.5, 3. , 0.5, 1. , 1.5, 0.5]])"
      ]
     },
     "execution_count": 127,
     "metadata": {},
     "output_type": "execute_result"
    }
   ],
   "source": [
    "arr /2"
   ]
  },
  {
   "cell_type": "code",
   "execution_count": 5,
   "id": "69eace2e",
   "metadata": {},
   "outputs": [],
   "source": [
    "# 数组与数组的运算\n",
    "import numpy as np\n",
    "arr1 = np.array([[1,2,3,2,1,4],[5,6,1,2,3,1]])\n",
    "arr2 = np.array([[1,2,3,4],[3,4,5,6]])"
   ]
  },
  {
   "cell_type": "code",
   "execution_count": 7,
   "id": "a27c5771",
   "metadata": {},
   "outputs": [
    {
     "data": {
      "text/plain": [
       "(2, 6)"
      ]
     },
     "execution_count": 7,
     "metadata": {},
     "output_type": "execute_result"
    }
   ],
   "source": [
    "arr1.shape"
   ]
  },
  {
   "cell_type": "code",
   "execution_count": 8,
   "id": "e40244e1",
   "metadata": {},
   "outputs": [
    {
     "data": {
      "text/plain": [
       "(2, 4)"
      ]
     },
     "execution_count": 8,
     "metadata": {},
     "output_type": "execute_result"
    }
   ],
   "source": [
    "arr2.shape"
   ]
  },
  {
   "cell_type": "markdown",
   "id": "e946f3a4",
   "metadata": {},
   "source": [
    "故，以上两数组不能进行运算"
   ]
  },
  {
   "cell_type": "markdown",
   "id": "370046c2",
   "metadata": {},
   "source": [
    "### 3.3 矩阵运算\n",
    "存储矩阵的两种方式：\n",
    "ndarray二维数组；矩阵乘法np.matmul。np.dot\n",
    "matrix数据结构；"
   ]
  },
  {
   "cell_type": "code",
   "execution_count": 9,
   "id": "f87774e5",
   "metadata": {},
   "outputs": [],
   "source": [
    "# 利用ndarray存储矩阵\n",
    "data = np.array([[80,86],[82,80],[85,78],[90,90],[86,82],[82,90],[78,80],[92,94]])\n",
    "b =np.mat([[0.3],[0.7]])"
   ]
  },
  {
   "cell_type": "code",
   "execution_count": 10,
   "id": "c7c3e1cb",
   "metadata": {},
   "outputs": [
    {
     "data": {
      "text/plain": [
       "array([[80, 86],\n",
       "       [82, 80],\n",
       "       [85, 78],\n",
       "       [90, 90],\n",
       "       [86, 82],\n",
       "       [82, 90],\n",
       "       [78, 80],\n",
       "       [92, 94]])"
      ]
     },
     "execution_count": 10,
     "metadata": {},
     "output_type": "execute_result"
    }
   ],
   "source": [
    "data"
   ]
  },
  {
   "cell_type": "code",
   "execution_count": 12,
   "id": "3526cbb0",
   "metadata": {},
   "outputs": [],
   "source": [
    "# 利用matrix存储矩阵\n",
    "data_mat =np.mat([[80,86],[82,80],[85,78],[90,90],[86,82],[82,90],[78,80],[92,94]])"
   ]
  },
  {
   "cell_type": "code",
   "execution_count": 13,
   "id": "1e24d3b6",
   "metadata": {},
   "outputs": [
    {
     "data": {
      "text/plain": [
       "matrix([[80, 86],\n",
       "        [82, 80],\n",
       "        [85, 78],\n",
       "        [90, 90],\n",
       "        [86, 82],\n",
       "        [82, 90],\n",
       "        [78, 80],\n",
       "        [92, 94]])"
      ]
     },
     "execution_count": 13,
     "metadata": {},
     "output_type": "execute_result"
    }
   ],
   "source": [
    "data_mat"
   ]
  },
  {
   "cell_type": "code",
   "execution_count": 14,
   "id": "c4d2a4e8",
   "metadata": {},
   "outputs": [
    {
     "data": {
      "text/plain": [
       "matrix([[84.2],\n",
       "        [80.6],\n",
       "        [80.1],\n",
       "        [90. ],\n",
       "        [83.2],\n",
       "        [87.6],\n",
       "        [79.4],\n",
       "        [93.4]])"
      ]
     },
     "execution_count": 14,
     "metadata": {},
     "output_type": "execute_result"
    }
   ],
   "source": [
    "data_mat * b"
   ]
  },
  {
   "cell_type": "markdown",
   "id": "71a1b762",
   "metadata": {},
   "source": [
    "## 4 合并与分割\n",
    "### 4.1合并\n"
   ]
  },
  {
   "cell_type": "code",
   "execution_count": 15,
   "id": "c30ed758",
   "metadata": {},
   "outputs": [],
   "source": [
    "a = np.array([1,2,3])\n",
    "b = np.array([2,3,4])"
   ]
  },
  {
   "cell_type": "code",
   "execution_count": 16,
   "id": "4043fa39",
   "metadata": {},
   "outputs": [
    {
     "data": {
      "text/plain": [
       "array([1, 2, 3, 2, 3, 4])"
      ]
     },
     "execution_count": 16,
     "metadata": {},
     "output_type": "execute_result"
    }
   ],
   "source": [
    "# 水平拼接\n",
    "np.hstack((a,b))"
   ]
  },
  {
   "cell_type": "code",
   "execution_count": 17,
   "id": "4d6d684e",
   "metadata": {},
   "outputs": [
    {
     "data": {
      "text/plain": [
       "array([[1, 2, 3],\n",
       "       [2, 3, 4]])"
      ]
     },
     "execution_count": 17,
     "metadata": {},
     "output_type": "execute_result"
    }
   ],
   "source": [
    "# 竖直拼接\n",
    "np.vstack((a,b))"
   ]
  },
  {
   "cell_type": "code",
   "execution_count": 19,
   "id": "c89f7098",
   "metadata": {},
   "outputs": [
    {
     "data": {
      "text/plain": [
       "array([1, 2, 3, 2, 3, 4])"
      ]
     },
     "execution_count": 19,
     "metadata": {},
     "output_type": "execute_result"
    }
   ],
   "source": [
    "# 既可以水平拼接，也可以竖直拼接\n",
    "np.concatenate((a,b),axis=0)"
   ]
  },
  {
   "cell_type": "markdown",
   "id": "06152d39",
   "metadata": {},
   "source": [
    "### 4.2 分割"
   ]
  },
  {
   "cell_type": "code",
   "execution_count": 20,
   "id": "fd59b359",
   "metadata": {},
   "outputs": [],
   "source": [
    "x = np.arange(9.0)"
   ]
  },
  {
   "cell_type": "code",
   "execution_count": 21,
   "id": "47ab1cfb",
   "metadata": {},
   "outputs": [
    {
     "data": {
      "text/plain": [
       "array([0., 1., 2., 3., 4., 5., 6., 7., 8.])"
      ]
     },
     "execution_count": 21,
     "metadata": {},
     "output_type": "execute_result"
    }
   ],
   "source": [
    "x"
   ]
  },
  {
   "cell_type": "code",
   "execution_count": 22,
   "id": "68976a67",
   "metadata": {},
   "outputs": [
    {
     "data": {
      "text/plain": [
       "[array([0., 1., 2.]), array([3., 4., 5.]), array([6., 7., 8.])]"
      ]
     },
     "execution_count": 22,
     "metadata": {},
     "output_type": "execute_result"
    }
   ],
   "source": [
    "np.split(x,3)"
   ]
  },
  {
   "cell_type": "code",
   "execution_count": 23,
   "id": "5277154a",
   "metadata": {},
   "outputs": [
    {
     "data": {
      "text/plain": [
       "[array([0., 1., 2.]),\n",
       " array([3., 4.]),\n",
       " array([5.]),\n",
       " array([6., 7.]),\n",
       " array([8.])]"
      ]
     },
     "execution_count": 23,
     "metadata": {},
     "output_type": "execute_result"
    }
   ],
   "source": [
    "np.split(x,[3,5,6,8])"
   ]
  },
  {
   "cell_type": "code",
   "execution_count": null,
   "id": "96fdc668",
   "metadata": {},
   "outputs": [],
   "source": []
  }
 ],
 "metadata": {
  "kernelspec": {
   "display_name": "Python 3",
   "language": "python",
   "name": "python3"
  },
  "language_info": {
   "codemirror_mode": {
    "name": "ipython",
    "version": 3
   },
   "file_extension": ".py",
   "mimetype": "text/x-python",
   "name": "python",
   "nbconvert_exporter": "python",
   "pygments_lexer": "ipython3",
   "version": "3.8.8"
  },
  "toc": {
   "base_numbering": 1,
   "nav_menu": {},
   "number_sections": true,
   "sideBar": true,
   "skip_h1_title": false,
   "title_cell": "Table of Contents",
   "title_sidebar": "Contents",
   "toc_cell": false,
   "toc_position": {},
   "toc_section_display": true,
   "toc_window_display": false
  }
 },
 "nbformat": 4,
 "nbformat_minor": 5
}
